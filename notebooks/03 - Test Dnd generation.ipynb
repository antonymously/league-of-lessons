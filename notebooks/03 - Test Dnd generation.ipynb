{
 "cells": [
  {
   "cell_type": "markdown",
   "metadata": {},
   "source": [
    "Test generating story in steps using Claude"
   ]
  },
  {
   "cell_type": "code",
   "execution_count": 3,
   "metadata": {},
   "outputs": [],
   "source": [
    "import json\n",
    "from league_of_lessons.game_generation.coop_dnd_generation import generate_story_continuation"
   ]
  },
  {
   "cell_type": "code",
   "execution_count": 4,
   "metadata": {},
   "outputs": [
    {
     "name": "stdout",
     "output_type": "stream",
     "text": [
      "[\n",
      "    {\n",
      "        \"event_type\": \"story_block\",\n",
      "        \"story\": \"As you open your eyes, you find yourself standing at the entrance of a dimly lit cave. The air is damp and cool, carrying a faint musty scent. Moss-covered rocks line the walls, and the sound of dripping water echoes in the distance. A narrow path leads deeper into the darkness, branching off in two directions just a few feet ahead. To your left, you see a flickering light, possibly from a torch or campfire. To your right, you hear a faint rumbling sound, like that of rushing water. You must decide which path to take.\"\n",
      "    },\n",
      "    {\n",
      "        \"event_type\": \"required_action\",\n",
      "        \"required_action\": \"player_decision\",\n",
      "        \"prompt\": \"Which path will you choose?\",\n",
      "        \"choices\": {\n",
      "            \"a\": \"Take the left path towards the flickering light\",\n",
      "            \"b\": \"Take the right path towards the sound of rushing water\"\n",
      "        }\n",
      "    }\n",
      "]\n"
     ]
    }
   ],
   "source": [
    "# start of story\n",
    "output = generate_story_continuation(history = [])\n",
    "print(json.dumps(output, indent = 4))"
   ]
  },
  {
   "cell_type": "code",
   "execution_count": 5,
   "metadata": {},
   "outputs": [
    {
     "name": "stdout",
     "output_type": "stream",
     "text": [
      "[\n",
      "    {\n",
      "        \"event_type\": \"story_block\",\n",
      "        \"story\": \"You decide to follow the path to the right, drawn by the mysterious rumbling of rushing water. As you venture deeper into the cave, the sound grows louder, and the air becomes noticeably cooler and damper. The narrow passage gradually widens, revealing a breathtaking sight: a underground river cascading down a series of rocky ledges, forming a magnificent waterfall that disappears into the depths below.\\n\\nThe cavern is dimly illuminated by bioluminescent fungi clinging to the walls, casting an ethereal blue glow across the rushing water. As your eyes adjust to the dim light, you notice something glinting beneath the surface of a calm pool at the base of the waterfall. It could be valuable treasure, but reaching it might be dangerous due to the slippery rocks and strong currents.\"\n",
      "    },\n",
      "    {\n",
      "        \"event_type\": \"required_action\",\n",
      "        \"required_action\": \"player_action\",\n",
      "        \"prompt\": \"What would you like to do next?\"\n",
      "    }\n",
      "]\n"
     ]
    }
   ],
   "source": [
    "# continue\n",
    "# example of player decision\n",
    "history = []\n",
    "history += output\n",
    "history.append({\n",
    "    \"event_type\": \"player_decision\",\n",
    "    \"choice\": \"b\"\n",
    "})\n",
    "output = generate_story_continuation(history = history)\n",
    "print(json.dumps(output, indent = 4))"
   ]
  },
  {
   "cell_type": "code",
   "execution_count": 6,
   "metadata": {},
   "outputs": [
    {
     "name": "stdout",
     "output_type": "stream",
     "text": [
      "[\n",
      "    {\n",
      "        \"event_type\": \"story_block\",\n",
      "        \"story\": \"You cautiously step into the cavern, your footsteps echoing softly over the roar of the waterfall. The mist from the cascading water clings to your skin as you make your way towards the calm pool where you spotted the glinting object. As you get closer to the water's edge, you realize the ground is becoming increasingly slippery, covered in a thin layer of algae and wet moss. The treasure lies tantalizingly close, just a few feet into the pool, but the current swirling around it looks deceptively strong.\"\n",
      "    },\n",
      "    {\n",
      "        \"event_type\": \"required_action\",\n",
      "        \"required_action\": \"player_dice_roll\",\n",
      "        \"prompt\": \"Roll a d20 to test your balance and agility as you approach the slippery edge of the pool.\",\n",
      "        \"dice_type\": \"d20\"\n",
      "    }\n",
      "]\n"
     ]
    }
   ],
   "source": [
    "# continue\n",
    "# example of player action\n",
    "history += output\n",
    "history.append({\n",
    "    \"event_type\": \"player_action\",\n",
    "    \"action\": \"I slowly walk into the cavern towards the treasure.\"\n",
    "})\n",
    "output = generate_story_continuation(history = history)\n",
    "print(json.dumps(output, indent = 4))"
   ]
  },
  {
   "cell_type": "code",
   "execution_count": 7,
   "metadata": {},
   "outputs": [
    {
     "name": "stdout",
     "output_type": "stream",
     "text": [
      "[\n",
      "    {\n",
      "        \"event_type\": \"story_block\",\n",
      "        \"story\": \"As you carefully inch forward, your foot suddenly slips on the slick surface. You struggle to maintain your balance, arms flailing wildly, but it's too late. With a startled cry, you tumble into the frigid water of the pool. The shock of the cold immediately takes your breath away as you're submerged. The current, stronger than you anticipated, pulls at your body, threatening to drag you towards the depths where the waterfall plunges.\\n\\nGasping for air, you manage to break the surface, but you find yourself being swept towards the center of the pool. The glinting object that caught your attention earlier is now just out of reach, bobbing tantalizingly close in the swirling waters. The situation has become dire, and you need to act quickly to avoid being pulled under or swept away by the current.\"\n",
      "    },\n",
      "    {\n",
      "        \"event_type\": \"required_action\",\n",
      "        \"required_action\": \"player_decision\",\n",
      "        \"prompt\": \"What will you do in this perilous situation?\",\n",
      "        \"choices\": {\n",
      "            \"a\": \"Try to swim against the current back to the edge of the pool\",\n",
      "            \"b\": \"Attempt to grab the glinting object as you're swept past it\"\n",
      "        }\n",
      "    }\n",
      "]\n"
     ]
    }
   ],
   "source": [
    "# continue\n",
    "# example of player dice roll\n",
    "history += output\n",
    "history.append({\n",
    "    \"event_type\": \"player_dice_roll\",\n",
    "    \"rolled_value\": \"4\"\n",
    "})\n",
    "output = generate_story_continuation(history = history)\n",
    "print(json.dumps(output, indent = 4))"
   ]
  },
  {
   "cell_type": "code",
   "execution_count": 8,
   "metadata": {},
   "outputs": [
    {
     "name": "stdout",
     "output_type": "stream",
     "text": [
      "[\n",
      "    {\n",
      "        \"event_type\": \"story_block\",\n",
      "        \"story\": \"As you open your eyes, you find yourself standing at the entrance of a dimly lit cave. The air is damp and cool, carrying a faint musty scent. Moss-covered rocks line the walls, and the sound of dripping water echoes in the distance. A narrow path leads deeper into the darkness, branching off in two directions just a few feet ahead. To your left, you see a flickering light, possibly from a torch or campfire. To your right, you hear a faint rumbling sound, like that of rushing water. You must decide which path to take.\"\n",
      "    },\n",
      "    {\n",
      "        \"event_type\": \"required_action\",\n",
      "        \"required_action\": \"player_decision\",\n",
      "        \"prompt\": \"Which path will you choose?\",\n",
      "        \"choices\": {\n",
      "            \"a\": \"Take the left path towards the flickering light\",\n",
      "            \"b\": \"Take the right path towards the sound of rushing water\"\n",
      "        }\n",
      "    },\n",
      "    {\n",
      "        \"event_type\": \"player_decision\",\n",
      "        \"choice\": \"b\"\n",
      "    },\n",
      "    {\n",
      "        \"event_type\": \"story_block\",\n",
      "        \"story\": \"You decide to follow the path to the right, drawn by the mysterious rumbling of rushing water. As you venture deeper into the cave, the sound grows louder, and the air becomes noticeably cooler and damper. The narrow passage gradually widens, revealing a breathtaking sight: a underground river cascading down a series of rocky ledges, forming a magnificent waterfall that disappears into the depths below.\\n\\nThe cavern is dimly illuminated by bioluminescent fungi clinging to the walls, casting an ethereal blue glow across the rushing water. As your eyes adjust to the dim light, you notice something glinting beneath the surface of a calm pool at the base of the waterfall. It could be valuable treasure, but reaching it might be dangerous due to the slippery rocks and strong currents.\"\n",
      "    },\n",
      "    {\n",
      "        \"event_type\": \"required_action\",\n",
      "        \"required_action\": \"player_action\",\n",
      "        \"prompt\": \"What would you like to do next?\"\n",
      "    },\n",
      "    {\n",
      "        \"event_type\": \"player_action\",\n",
      "        \"action\": \"I slowly walk into the cavern towards the treasure.\"\n",
      "    },\n",
      "    {\n",
      "        \"event_type\": \"story_block\",\n",
      "        \"story\": \"You cautiously step into the cavern, your footsteps echoing softly over the roar of the waterfall. The mist from the cascading water clings to your skin as you make your way towards the calm pool where you spotted the glinting object. As you get closer to the water's edge, you realize the ground is becoming increasingly slippery, covered in a thin layer of algae and wet moss. The treasure lies tantalizingly close, just a few feet into the pool, but the current swirling around it looks deceptively strong.\"\n",
      "    },\n",
      "    {\n",
      "        \"event_type\": \"required_action\",\n",
      "        \"required_action\": \"player_dice_roll\",\n",
      "        \"prompt\": \"Roll a d20 to test your balance and agility as you approach the slippery edge of the pool.\",\n",
      "        \"dice_type\": \"d20\"\n",
      "    },\n",
      "    {\n",
      "        \"event_type\": \"player_dice_roll\",\n",
      "        \"rolled_value\": \"4\"\n",
      "    },\n",
      "    {\n",
      "        \"event_type\": \"story_block\",\n",
      "        \"story\": \"As you carefully inch forward, your foot suddenly slips on the slick surface. You struggle to maintain your balance, arms flailing wildly, but it's too late. With a startled cry, you tumble into the frigid water of the pool. The shock of the cold immediately takes your breath away as you're submerged. The current, stronger than you anticipated, pulls at your body, threatening to drag you towards the depths where the waterfall plunges.\\n\\nGasping for air, you manage to break the surface, but you find yourself being swept towards the center of the pool. The glinting object that caught your attention earlier is now just out of reach, bobbing tantalizingly close in the swirling waters. The situation has become dire, and you need to act quickly to avoid being pulled under or swept away by the current.\"\n",
      "    },\n",
      "    {\n",
      "        \"event_type\": \"required_action\",\n",
      "        \"required_action\": \"player_decision\",\n",
      "        \"prompt\": \"What will you do in this perilous situation?\",\n",
      "        \"choices\": {\n",
      "            \"a\": \"Try to swim against the current back to the edge of the pool\",\n",
      "            \"b\": \"Attempt to grab the glinting object as you're swept past it\"\n",
      "        }\n",
      "    }\n",
      "]\n"
     ]
    }
   ],
   "source": [
    "history += output\n",
    "print(json.dumps(history, indent = 4))"
   ]
  },
  {
   "cell_type": "code",
   "execution_count": null,
   "metadata": {},
   "outputs": [],
   "source": []
  }
 ],
 "metadata": {
  "kernelspec": {
   "display_name": "Python 3 (ipykernel)",
   "language": "python",
   "name": "python3"
  }
 },
 "nbformat": 4,
 "nbformat_minor": 2
}
