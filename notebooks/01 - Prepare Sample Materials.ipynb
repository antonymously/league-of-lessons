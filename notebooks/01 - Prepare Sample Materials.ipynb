{
 "cells": [
  {
   "cell_type": "markdown",
   "metadata": {},
   "source": [
    "Prepare some sample materials to use with league of lessons"
   ]
  },
  {
   "cell_type": "code",
   "execution_count": 5,
   "metadata": {},
   "outputs": [
    {
     "data": {
      "text/plain": [
       "'D:\\\\league_of_lessons'"
      ]
     },
     "execution_count": 5,
     "metadata": {},
     "output_type": "execute_result"
    }
   ],
   "source": [
    "import os\n",
    "from docx import Document\n",
    "\n",
    "os.getcwd()"
   ]
  },
  {
   "cell_type": "code",
   "execution_count": 7,
   "metadata": {},
   "outputs": [],
   "source": [
    "noli_doc = Document(\"./data/noli_me_tangere/noli_me_tangere_text.docx\")"
   ]
  },
  {
   "cell_type": "code",
   "execution_count": 15,
   "metadata": {},
   "outputs": [],
   "source": [
    "def docx_to_text(doc):\n",
    "    full_text = []\n",
    "\n",
    "    for element in doc.element.body:\n",
    "        if element.tag.endswith('p'):\n",
    "            full_text.append(element.text)\n",
    "        elif element.tag.endswith('tbl'):\n",
    "            table = []\n",
    "            for row in element.findall('.//w:tr', namespaces=element.nsmap):\n",
    "                cells = []\n",
    "                for cell in row.findall('.//w:t', namespaces=element.nsmap):\n",
    "                    cells.append(cell.text)\n",
    "                table.append(' | '.join(cells))\n",
    "            full_text.append('\\n'.join(table))\n",
    "    \n",
    "    return '\\n\\n'.join(full_text).strip()"
   ]
  },
  {
   "cell_type": "code",
   "execution_count": 16,
   "metadata": {},
   "outputs": [
    {
     "name": "stdout",
     "output_type": "stream",
     "text": [
      "Ang Noli Me Tángere ay isang nobelang isinulat ni Jose Rizal, at inilathala noong 1887, sa Europa. Hango sa Latin ang pamagat nito at \"huwag mo akong salingin\" ang ibig sabihin nito. Kinuha ito ni Rizal sa ebanghelyo ni Juan: 20: 13-17 sa Bibliya na tumutukoy kung paano pinagsusuot ng mga patalastas ang mga may ketong upang lubayan sila ng mga nakakasalubong nila. Mas madalas itong tinatawag na Noli; at ang salin sa Ingles nito ay Social Cancer. Sinundan ito ng El Filibusterismo, isa pang nobela ni Jose Rizal.\n",
      "\n",
      "\n",
      "\n",
      "\n",
      "\n",
      "\n",
      "\n",
      "\n",
      "\n",
      "\n",
      "\n",
      "\n",
      "\n",
      "\n",
      "\n",
      "\n",
      "\n",
      "\n",
      "\n",
      "\n",
      "\n",
      "\n",
      "\n",
      "\n",
      "\n",
      "\n",
      "\n",
      "\n",
      "\n",
      "\n",
      "\n",
      "\n",
      "\n",
      "\n",
      "\n",
      "\n",
      "\n",
      "\n",
      "\n",
      "\n",
      "\n",
      "TALAAN NG MGA NILALAMAN\n",
      "\n",
      "\n",
      "\n",
      "\n",
      "\n",
      "Kasaysayan\n",
      "\n",
      "Buod ng Nobela\n",
      "\n",
      "Mga Pangunahing Tauhan\n",
      "\n",
      "Ibang Tauhan\n",
      "\n",
      "Buod ng Bawat Kabanata:\n",
      "\n",
      "1: Isang Pagtitipon\n",
      "\n",
      "2: Si Crisostomo Ibarra\n",
      "\n",
      "3: Ang Hapunan\n",
      "\n",
      "4: Erehe at Pilibustero\n",
      "\n",
      "5: Pangarap sa Gabing Madilim\n",
      "\n",
      "6: Si Kapitan Tiyago\n",
      "\n",
      "7: Suyuan sa Isang Asotea\n",
      "\n",
      "8: Mga Alaala\n",
      "\n",
      "9: Mga Bagay-bagay sa Paligid\n",
      "\n",
      "10: Ang Bayan ng San Diego\n",
      "\n",
      "11: Mga Hari-harian\n",
      "\n",
      "12: Todos Los Santos (Araw ng mga Patay)\n",
      "\n",
      "13: Mga Babala ng B\n"
     ]
    }
   ],
   "source": [
    "noli_text = docx_to_text(noli_doc)\n",
    "print(noli_text[:1000])"
   ]
  },
  {
   "cell_type": "code",
   "execution_count": 17,
   "metadata": {},
   "outputs": [
    {
     "name": "stdout",
     "output_type": "stream",
     "text": [
      "223276\n"
     ]
    }
   ],
   "source": [
    "# too long, let's just truncate it so we don't consume too many tokens\n",
    "print(len(noli_text))"
   ]
  },
  {
   "cell_type": "code",
   "execution_count": 31,
   "metadata": {},
   "outputs": [],
   "source": [
    "noli_text_short = noli_text[:20000]"
   ]
  },
  {
   "cell_type": "code",
   "execution_count": 33,
   "metadata": {},
   "outputs": [
    {
     "name": "stdout",
     "output_type": "stream",
     "text": [
      " tabi ng batis ang tinungo ni Elias, o piloto, pagpanggaling niya sa piknik. Ang kaibigan niyang dalaga, si Salome, ang naninirahang mag-isa sa nasabing kubo. Hindi malubos ang pag-iibigan ng dalawa dahil sa kahirapan nila ni Salome ang kanilang magiging anak, kaya’t hindi niya pinigilan ang dalaga sa balak niyang paglayo upang manirahan sa mga kamag-anak niya sa Mindoro.\n",
      "\n",
      "Sinadya ni Crisostomo Ibarra ang bahay ni Pilosopong Tasyo upang humingi ng payo tungkol sa balak niyang pagtatayo ng paaralan sa San Diego. Unang ipinayo ni Pilosopong Tasyo ang paglapit ni Ibarra sa kura upang isanguni ang plano. Bukod ditto kailangan paring sumangguni ang binata sa iba pang makapangyarihan sa bayan. Sa simula’y tinutulan ni Ibarra ang gayong mga payo. Ikinatwiran niyang mabuti ang kanyang layunin kaya’t tiyak na magtatagumpay sa tulong ng ilang matitinong tao sa bayan. Ipinaalaala ni Pilosopong Tasyo kay Ibarra na hindi maaaring makibagay sa pari at iba pang makapangyarihan ang binata, ipinayo ni Pilosopong Tasyo na isaisantabi na muna iyon ang balak sa pagpapatayo ng paaralan. Abala ang lahat sa paghahanda para sa pista ng San Diego. Natatangiang mga pagkain ang inihanda sa malalaki at maliliit mang bahay. Ang kasiglahan ay higit na kapansin-pansi sa mga lansangan sinabitan ng mga papel na iba-iba ang kulay at pinaparadahan ng mga banda ng musiko. Bukod sa paghahanda ng mga pagkain ay naghahanda rin pa sa isang malakasang sugalan ang mayayaman. Tila tampok ng pista ang pagsisimula ng paggawa para sa ipinatayong paaralan ni Crisostomo Ibarra. Gayon na lamang ang paghanga ng marami sa binata dahil sa kapakipakinabang na proyekto niyon. Tanging si pilosopong tasyo ang hindi malubos ang kasiyahan gawa ng kung anong pangitain niya. Kagabihan ng bisperas ng pista sa San Diego ang kagandahan ng dalaga. Tumingkad ang gayong kagandahan dahil sa anyang taglay na kabaitan at kagandahang-loob. Pinaunayan ito ng iba’t ibang mga pangyayaring naganap sa kanilang pamamasyal.\n",
      "\n",
      "Tungol sa sulat \n"
     ]
    }
   ],
   "source": [
    "print(noli_text_short[-2000:])"
   ]
  },
  {
   "cell_type": "code",
   "execution_count": 34,
   "metadata": {},
   "outputs": [],
   "source": [
    "from transformers import GPT2Tokenizer\n",
    "\n",
    "def estimate_tokens(text):\n",
    "    tokenizer = GPT2Tokenizer.from_pretrained(\"gpt2\")\n",
    "    tokens = tokenizer.encode(text)\n",
    "    return len(tokens)"
   ]
  },
  {
   "cell_type": "code",
   "execution_count": 35,
   "metadata": {},
   "outputs": [
    {
     "name": "stderr",
     "output_type": "stream",
     "text": [
      "Token indices sequence length is longer than the specified maximum sequence length for this model (7835 > 1024). Running this sequence through the model will result in indexing errors\n"
     ]
    },
    {
     "data": {
      "text/plain": [
       "7835"
      ]
     },
     "execution_count": 35,
     "metadata": {},
     "output_type": "execute_result"
    }
   ],
   "source": [
    "estimate_tokens(noli_text_short)"
   ]
  },
  {
   "cell_type": "code",
   "execution_count": 37,
   "metadata": {},
   "outputs": [],
   "source": [
    "with open(\"./data/noli_me_tangere/noli_me_tangere_study_material.txt\", \"w\") as f:\n",
    "    f.write(noli_text_short)"
   ]
  }
 ],
 "metadata": {
  "kernelspec": {
   "display_name": "Python 3 (ipykernel)",
   "language": "python",
   "name": "python3"
  },
  "language_info": {
   "codemirror_mode": {
    "name": "ipython",
    "version": 3
   },
   "file_extension": ".py",
   "mimetype": "text/x-python",
   "name": "python",
   "nbconvert_exporter": "python",
   "pygments_lexer": "ipython3",
   "version": "3.12.4"
  }
 },
 "nbformat": 4,
 "nbformat_minor": 2
}
