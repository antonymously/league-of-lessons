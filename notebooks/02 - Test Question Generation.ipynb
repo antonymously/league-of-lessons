{
 "cells": [
  {
   "cell_type": "markdown",
   "metadata": {},
   "source": [
    "Test generating questions using the sample study material."
   ]
  },
  {
   "cell_type": "code",
   "execution_count": 1,
   "metadata": {},
   "outputs": [],
   "source": [
    "from league_of_lessons.question_generation.multiple_choice import generate_multiple_choice_questions"
   ]
  },
  {
   "cell_type": "code",
   "execution_count": 2,
   "metadata": {},
   "outputs": [],
   "source": [
    "with open(\"./data/noli_me_tangere/noli_me_tangere_study_material.txt\", \"r\") as f:\n",
    "    study_material_txt = f.read()"
   ]
  },
  {
   "cell_type": "code",
   "execution_count": 3,
   "metadata": {},
   "outputs": [
    {
     "name": "stdout",
     "output_type": "stream",
     "text": [
      "[{'question_text': \"Ano ang ibig sabihin ng pamagat na 'Noli Me Tangere'?\", 'choices': {'a': 'Huwag mo akong salingin', 'b': 'Huwag mo akong hawakan', 'c': 'Huwag mo akong tawagan', 'd': 'Huwag mo akong tingnan'}, 'correct_answer': 'a'}, {'question_text': 'Saan unang inilathala ang Noli Me Tangere?', 'choices': {'a': 'Pilipinas', 'b': 'Espanya', 'c': 'Europa', 'd': 'Alemanya'}, 'correct_answer': 'c'}, {'question_text': 'Ilang taong gulang si Jose Rizal nang ilathala ang Noli Me Tangere?', 'choices': {'a': '24', 'b': '25', 'c': '26', 'd': '27'}, 'correct_answer': 'c'}, {'question_text': 'Anong wika ang ginamit ni Rizal sa pagsulat ng Noli Me Tangere?', 'choices': {'a': 'Tagalog', 'b': 'Ingles', 'c': 'Latin', 'd': 'Kastila'}, 'correct_answer': 'd'}, {'question_text': 'Sino ang pangunahing tauhan na nag-aral sa Europa at nangarap na makapagpatayo ng paaralan?', 'choices': {'a': 'Maria Clara', 'b': 'Crisostomo Ibarra', 'c': 'Elias', 'd': 'Padre Damaso'}, 'correct_answer': 'b'}, {'question_text': 'Sino ang kasintahan ni Crisostomo Ibarra?', 'choices': {'a': 'Sisa', 'b': 'Donya Victorina', 'c': 'Maria Clara', 'd': 'Salome'}, 'correct_answer': 'c'}, {'question_text': 'Sino ang tunay na ama ni Maria Clara?', 'choices': {'a': 'Kapitan Tiago', 'b': 'Padre Damaso', 'c': 'Don Rafael Ibarra', 'd': 'Pilosopo Tasio'}, 'correct_answer': 'b'}, {'question_text': 'Sino ang bangkero at magsasakang tumulong kay Ibarra para makilala ang kanyang bayan?', 'choices': {'a': 'Elias', 'b': 'Basilio', 'c': 'Crispin', 'd': 'Pilosopo Tasio'}, 'correct_answer': 'a'}, {'question_text': 'Sino ang ina nina Basilio at Crispin?', 'choices': {'a': 'Maria Clara', 'b': 'Donya Victorina', 'c': 'Sisa', 'd': 'Donya Consolacion'}, 'correct_answer': 'c'}, {'question_text': 'Sino ang maalam na matandang tagapayo ng mga mamamayan ng San Diego?', 'choices': {'a': 'Don Rafael Ibarra', 'b': 'Kapitan Tiago', 'c': 'Padre Salvi', 'd': 'Pilosopo Tasio'}, 'correct_answer': 'd'}, {'question_text': 'Sino ang kurang pumalit kay Padre Damaso?', 'choices': {'a': 'Padre Sibyla', 'b': 'Padre Salvi', 'c': 'Pilosopo Tasio', 'd': 'Don Tiburcio'}, 'correct_answer': 'b'}, {'question_text': 'Sino ang asawa ng alperes na dating labandera?', 'choices': {'a': 'Donya Victorina', 'b': 'Maria Clara', 'c': 'Donya Consolacion', 'd': 'Sisa'}, 'correct_answer': 'c'}, {'question_text': 'Sino ang napangasawa ni Donya Victorina?', 'choices': {'a': 'Don Tiburcio de Espadaña', 'b': 'Crisostomo Ibarra', 'c': 'Kapitan Tiago', 'd': 'Elias'}, 'correct_answer': 'a'}, {'question_text': 'Sino ang pinili ni Padre Damaso para mapangasawa ni Maria Clara?', 'choices': {'a': 'Crisostomo Ibarra', 'b': 'Elias', 'c': 'Linares', 'd': 'Basilio'}, 'correct_answer': 'c'}, {'question_text': 'Sino ang tenyente mayor na mahilig magbasa ng Latin?', 'choices': {'a': 'Don Filipo', 'b': 'Señor Nyor Juan', 'c': 'Lucas', 'd': 'Tarsilo'}, 'correct_answer': 'a'}, {'question_text': 'Sino ang namahala ng mga gawain sa pagpapatayo ng paaralan?', 'choices': {'a': 'Don Filipo', 'b': 'Señor Nyor Juan', 'c': 'Lucas', 'd': 'Tarsilo'}, 'correct_answer': 'b'}, {'question_text': 'Sino ang kapatid ng taong madilaw na gumawa ng kalong ginamit sa di-natuloy na pagpatay kay Ibarra?', 'choices': {'a': 'Don Filipo', 'b': 'Señor Nyor Juan', 'c': 'Lucas', 'd': 'Tarsilo'}, 'correct_answer': 'c'}, {'question_text': 'Sino ang magkapatid na ang ama ay napatay sa palo ng mga Kastila?', 'choices': {'a': 'Basilio at Crispin', 'b': 'Tarsilo at Bruno', 'c': 'Lucas at Don Filipo', 'd': 'Elias at Salome'}, 'correct_answer': 'b'}, {'question_text': 'Sino ang hipag ni Kapitan Tiago na tumulong sa pagpapalaki kay Maria Clara?', 'choices': {'a': 'Donya Pia Alba', 'b': 'Tiya Isabel', 'c': 'Donya Victorina', 'd': 'Donya Consolacion'}, 'correct_answer': 'b'}, {'question_text': \"Sino ang masimbahing ina ni Maria Clara na namatay matapos na kaagad na siya'y maisilang?\", 'choices': {'a': 'Donya Pia Alba', 'b': 'Tiya Isabel', 'c': 'Donya Victorina', 'd': 'Donya Consolacion'}, 'correct_answer': 'a'}, {'question_text': 'Sino ang ama ni Crisostomo na nakainggitan nang labis ni Padre Damaso?', 'choices': {'a': 'Don Rafael Ibarra', 'b': 'Don Saturnino', 'c': 'Don Pedro Eibarramendia', 'd': 'Kapitan Tiago'}, 'correct_answer': 'a'}, {'question_text': 'Sino ang lolo ni Crisostomo na naging dahilan ng kasawian ng nuno ni Elias?', 'choices': {'a': 'Don Rafael Ibarra', 'b': 'Don Saturnino', 'c': 'Don Pedro Eibarramendia', 'd': 'Kapitan Tiago'}, 'correct_answer': 'b'}, {'question_text': 'Sino ang nuno ni Elias na naging isang tulisan?', 'choices': {'a': 'Balat', 'b': 'Mang Pablo', 'c': 'Kapitan Basilio', 'd': 'Tenyente Guevarra'}, 'correct_answer': 'a'}, {'question_text': 'Sino ang ama ni Don Saturnino at nuno ni Crisostomo?', 'choices': {'a': 'Don Rafael Ibarra', 'b': 'Don Saturnino', 'c': 'Don Pedro Eibarramendia', 'd': 'Kapitan Tiago'}, 'correct_answer': 'c'}, {'question_text': 'Sino ang pinuno ng mga tulisan na ibig tulungan ni Elias?', 'choices': {'a': 'Balat', 'b': 'Mang Pablo', 'c': 'Kapitan Basilio', 'd': 'Tenyente Guevarra'}, 'correct_answer': 'b'}, {'question_text': 'Sino ang ama ni Sinang?', 'choices': {'a': 'Kapitan Basilio', 'b': 'Kapitan Tinong', 'c': 'Kapitan Valentin', 'd': 'Kapitan Tiago'}, 'correct_answer': 'a'}, {'question_text': 'Sino ang nagsalaysay kay Ibarra ng tungkol sa kasawiang sinapit ng kanyang ama?', 'choices': {'a': 'Balat', 'b': 'Mang Pablo', 'c': 'Kapitan Basilio', 'd': 'Tenyente Guevarra'}, 'correct_answer': 'd'}, {'question_text': 'Sino ang tanging babaing makabayan na pumapanig sa pagtatanggol ni Ibarra sa alaala ng ama?', 'choices': {'a': 'Kapitana Maria', 'b': 'Donya Victorina', 'c': 'Donya Consolacion', 'd': 'Maria Clara'}, 'correct_answer': 'a'}, {'question_text': 'Sino ang paring Dominikano na lihim na sumusubaybay sa mga kilos ni Ibarra?', 'choices': {'a': 'Padre Damaso', 'b': 'Padre Salvi', 'c': 'Padre Sibyla', 'd': 'Pilosopo Tasio'}, 'correct_answer': 'c'}, {'question_text': 'Sino ang dating seminarista na nakasama sa piknik sa lawa?', 'choices': {'a': 'Elias', 'b': 'Albino', 'c': 'Linares', 'd': 'Don Filipo'}, 'correct_answer': 'b'}]\n"
     ]
    }
   ],
   "source": [
    "questions = generate_multiple_choice_questions(\n",
    "    study_material_txt,\n",
    "    n_questions = 30,\n",
    ")\n",
    "\n",
    "print(questions)"
   ]
  },
  {
   "cell_type": "code",
   "execution_count": null,
   "metadata": {},
   "outputs": [],
   "source": []
  }
 ],
 "metadata": {
  "kernelspec": {
   "display_name": "Python 3 (ipykernel)",
   "language": "python",
   "name": "python3"
  },
  "language_info": {
   "codemirror_mode": {
    "name": "ipython",
    "version": 3
   },
   "file_extension": ".py",
   "mimetype": "text/x-python",
   "name": "python",
   "nbconvert_exporter": "python",
   "pygments_lexer": "ipython3",
   "version": "3.12.4"
  }
 },
 "nbformat": 4,
 "nbformat_minor": 2
}
