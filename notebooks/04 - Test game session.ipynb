{
 "cells": [
  {
   "cell_type": "markdown",
   "metadata": {},
   "source": [
    "Test the game session object"
   ]
  },
  {
   "cell_type": "code",
   "execution_count": 1,
   "metadata": {},
   "outputs": [],
   "source": [
    "import json\n",
    "from league_of_lessons.game_session import GameSession, QuestionManager"
   ]
  },
  {
   "cell_type": "code",
   "execution_count": 2,
   "metadata": {},
   "outputs": [],
   "source": [
    "study_material_filepath = \"./data/noli_me_tangere/noli_me_tangere_study_material.txt\""
   ]
  },
  {
   "cell_type": "code",
   "execution_count": 3,
   "metadata": {},
   "outputs": [],
   "source": [
    "question_manager = QuestionManager()\n",
    "question_manager.set_study_material(study_material_filepath)"
   ]
  },
  {
   "cell_type": "code",
   "execution_count": 4,
   "metadata": {},
   "outputs": [],
   "source": [
    "game_session = GameSession(question_manager = question_manager)"
   ]
  },
  {
   "cell_type": "code",
   "execution_count": 5,
   "metadata": {},
   "outputs": [],
   "source": [
    "game_session.reset()"
   ]
  },
  {
   "cell_type": "code",
   "execution_count": 6,
   "metadata": {},
   "outputs": [
    {
     "name": "stdout",
     "output_type": "stream",
     "text": [
      "[\n",
      "    {\n",
      "        \"event_type\": \"story_block\",\n",
      "        \"story\": \"Welcome, brave adventurer, to the mystical realm of Eldoria! You find yourself at the entrance of the ancient city of Luminara, known for its towering crystal spires and magical artifacts. As you approach the massive gilded gates, you notice they are slightly ajar, which is unusual for this time of night. The air is thick with an eerie silence, broken only by the occasional whisper of wind. Something feels amiss in this normally bustling city.\"\n",
      "    },\n",
      "    {\n",
      "        \"event_type\": \"required_action\",\n",
      "        \"required_action\": \"player_decision\",\n",
      "        \"prompt\": \"How do you wish to proceed?\",\n",
      "        \"choices\": {\n",
      "            \"a\": \"Cautiously enter the city through the open gates\",\n",
      "            \"b\": \"Investigate the area around the gates before entering\"\n",
      "        }\n",
      "    }\n",
      "]\n"
     ]
    }
   ],
   "source": [
    "next_events = game_session.next()\n",
    "print(json.dumps(next_events, indent = 4))"
   ]
  },
  {
   "cell_type": "code",
   "execution_count": 7,
   "metadata": {},
   "outputs": [
    {
     "name": "stdout",
     "output_type": "stream",
     "text": [
      "[\n",
      "    {\n",
      "        \"event_type\": \"story_block\",\n",
      "        \"story\": \"You decide to investigate the area around the gates before entering the city. As you circle the perimeter, your keen eyes spot something unusual. Near the base of the right gate, partially hidden by overgrown vines, you notice strange markings etched into the stone. They appear to be fresh, glowing faintly with a sickly green light. Upon closer inspection, you recognize them as symbols of dark magic, possibly used in some kind of sinister ritual. The discovery sends a chill down your spine, confirming your suspicions that something is indeed wrong in Luminara.\"\n",
      "    },\n",
      "    {\n",
      "        \"event_type\": \"required_action\",\n",
      "        \"required_action\": \"player_decision\",\n",
      "        \"prompt\": \"What would you like to do with this new information?\",\n",
      "        \"choices\": {\n",
      "            \"a\": \"Attempt to decipher the magical symbols\",\n",
      "            \"b\": \"Enter the city cautiously, keeping an eye out for any other signs of dark magic\"\n",
      "        }\n",
      "    }\n",
      "]\n"
     ]
    }
   ],
   "source": [
    "next_events = game_session.next({\n",
    "    \"event_type\": \"player_decision\",\n",
    "    \"choice\": \"b\"\n",
    "})\n",
    "print(json.dumps(next_events, indent = 4))"
   ]
  },
  {
   "cell_type": "code",
   "execution_count": 8,
   "metadata": {},
   "outputs": [
    {
     "name": "stdout",
     "output_type": "stream",
     "text": [
      "[\n",
      "    {\n",
      "        \"event_type\": \"story_block\",\n",
      "        \"story\": \"You kneel down to examine the glowing symbols more closely, drawing upon your knowledge of arcane lore. As you trace the lines with your eyes, you begin to sense a malevolent energy pulsing from the markings. The symbols seem to be part of a larger incantation, one designed to weaken the city's magical defenses. However, deciphering the full meaning of these complex runes will require intense concentration and skill.\"\n",
      "    },\n",
      "    {\n",
      "        \"event_type\": \"required_action\",\n",
      "        \"required_action\": \"player_dice_roll\",\n",
      "        \"prompt\": \"Roll a d20 to determine your success in deciphering the magical symbols. A higher roll indicates better comprehension.\",\n",
      "        \"dice_type\": \"d20\"\n",
      "    },\n",
      "    {\n",
      "        \"event_type\": \"initial_dice_roll\",\n",
      "        \"rolled_value\": \"7\"\n",
      "    },\n",
      "    {\n",
      "        \"event_type\": \"study_question\",\n",
      "        \"question_text\": \"Sino ang tanging babaing makabayan na pumapanig sa pagtatanggol ni Ibarra sa alaala ng ama?\",\n",
      "        \"choices\": {\n",
      "            \"a\": \"Donya Victorina\",\n",
      "            \"b\": \"Kapitana Maria\",\n",
      "            \"c\": \"Sisa\",\n",
      "            \"d\": \"Maria Clara\"\n",
      "        }\n",
      "    }\n",
      "]\n"
     ]
    }
   ],
   "source": [
    "next_events = game_session.next({\n",
    "    \"event_type\": \"player_decision\",\n",
    "    \"choice\": \"a\"\n",
    "})\n",
    "print(json.dumps(next_events, indent = 4))"
   ]
  },
  {
   "cell_type": "code",
   "execution_count": 9,
   "metadata": {},
   "outputs": [
    {
     "name": "stdout",
     "output_type": "stream",
     "text": [
      "[\n",
      "    {\n",
      "        \"event_type\": \"answer_assessment\",\n",
      "        \"assessment\": \"Correct\",\n",
      "        \"correct_answer\": \"b\",\n",
      "        \"adjusted_dice_roll\": \"12\"\n",
      "    },\n",
      "    {\n",
      "        \"event_type\": \"story_block\",\n",
      "        \"story\": \"With a roll of 12, you manage to partially decipher the magical symbols. Your understanding is incomplete, but you gather enough information to grasp the gravity of the situation. The runes are part of a dark ritual that has weakened Luminara's protective wards, leaving the city vulnerable to malevolent forces. You sense that the full effects of this ritual are yet to manifest, but time is of the essence. As you ponder this revelation, a faint, otherworldly shriek echoes from within the city walls, sending a shiver down your spine.\"\n",
      "    },\n",
      "    {\n",
      "        \"event_type\": \"required_action\",\n",
      "        \"required_action\": \"player_decision\",\n",
      "        \"prompt\": \"With this partial knowledge and the unsettling sound, what do you choose to do?\",\n",
      "        \"choices\": {\n",
      "            \"a\": \"Enter the city immediately to investigate the source of the shriek\",\n",
      "            \"b\": \"Attempt to disrupt the magical symbols before entering the city\"\n",
      "        }\n",
      "    }\n",
      "]\n"
     ]
    }
   ],
   "source": [
    "next_events = game_session.next({\n",
    "    \"event_type\": \"player_answer\",\n",
    "    \"answer\": \"b\"\n",
    "})\n",
    "print(json.dumps(next_events, indent = 4))"
   ]
  },
  {
   "cell_type": "code",
   "execution_count": null,
   "metadata": {},
   "outputs": [],
   "source": []
  },
  {
   "cell_type": "code",
   "execution_count": null,
   "metadata": {},
   "outputs": [],
   "source": []
  },
  {
   "cell_type": "code",
   "execution_count": null,
   "metadata": {},
   "outputs": [],
   "source": []
  },
  {
   "cell_type": "code",
   "execution_count": null,
   "metadata": {},
   "outputs": [],
   "source": []
  }
 ],
 "metadata": {
  "kernelspec": {
   "display_name": "Python 3 (ipykernel)",
   "language": "python",
   "name": "python3"
  },
  "language_info": {
   "codemirror_mode": {
    "name": "ipython",
    "version": 3
   },
   "file_extension": ".py",
   "mimetype": "text/x-python",
   "name": "python",
   "nbconvert_exporter": "python",
   "pygments_lexer": "ipython3",
   "version": "3.12.4"
  }
 },
 "nbformat": 4,
 "nbformat_minor": 2
}
