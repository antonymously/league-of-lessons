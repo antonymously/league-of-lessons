{
 "cells": [
  {
   "cell_type": "markdown",
   "metadata": {},
   "source": [
    "Test the game session object"
   ]
  },
  {
   "cell_type": "code",
   "execution_count": 1,
   "metadata": {},
   "outputs": [],
   "source": [
    "import json\n",
    "from league_of_lessons.game_session import GameSession"
   ]
  },
  {
   "cell_type": "code",
   "execution_count": 2,
   "metadata": {},
   "outputs": [],
   "source": [
    "study_material_filepath = \"./data/noli_me_tangere/noli_me_tangere_study_material.txt\""
   ]
  },
  {
   "cell_type": "code",
   "execution_count": 3,
   "metadata": {},
   "outputs": [],
   "source": [
    "game_session = GameSession()"
   ]
  },
  {
   "cell_type": "code",
   "execution_count": 4,
   "metadata": {},
   "outputs": [],
   "source": [
    "game_session.set_study_meterial(study_material_filepath)"
   ]
  },
  {
   "cell_type": "code",
   "execution_count": 13,
   "metadata": {},
   "outputs": [],
   "source": [
    "game_session.reset()"
   ]
  },
  {
   "cell_type": "code",
   "execution_count": 14,
   "metadata": {},
   "outputs": [
    {
     "name": "stdout",
     "output_type": "stream",
     "text": [
      "[\n",
      "    {\n",
      "        \"event_type\": \"story_block\",\n",
      "        \"story\": \"You find yourself standing at the entrance of a dark, foreboding cave. The air is thick with moisture, and a cool breeze carries the scent of damp earth and something... unnatural. The rocky walls of the cave mouth loom above you, their jagged edges casting eerie shadows in the fading daylight. As you peer into the darkness beyond, you can't shake the feeling that something ancient and powerful lurks within. Your quest to find the legendary Artifact of Ages has led you here, to this remote and treacherous location. The village elder's warnings echo in your mind, but the promise of glory and riches spurs you forward. What do you do?\"\n",
      "    },\n",
      "    {\n",
      "        \"event_type\": \"required_action\",\n",
      "        \"required_action\": \"player_decision\",\n",
      "        \"prompt\": \"How do you proceed?\",\n",
      "        \"choices\": {\n",
      "            \"a\": \"Enter the cave cautiously, keeping your senses alert\",\n",
      "            \"b\": \"Search the area around the cave entrance for any clues or useful items\"\n",
      "        }\n",
      "    }\n",
      "]\n"
     ]
    }
   ],
   "source": [
    "next_events = game_session.next()\n",
    "print(json.dumps(next_events, indent = 4))"
   ]
  },
  {
   "cell_type": "code",
   "execution_count": 15,
   "metadata": {},
   "outputs": [
    {
     "name": "stdout",
     "output_type": "stream",
     "text": [
      "[\n",
      "    {\n",
      "        \"event_type\": \"story_block\",\n",
      "        \"story\": \"You decide to search the area around the cave entrance before venturing inside. As you carefully scan the rocky terrain, your eyes catch a glint of something metallic partly buried beneath some loose stones. Crouching down, you brush away the debris to reveal an old, rusted lantern. It's dented and weathered, but appears to be still functional. Beside it, you notice some scratches on a flat rock surface. Upon closer inspection, they appear to be crude symbols or writing, possibly left by previous explorers or even the original inhabitants of the cave.\"\n",
      "    },\n",
      "    {\n",
      "        \"event_type\": \"required_action\",\n",
      "        \"required_action\": \"player_decision\",\n",
      "        \"prompt\": \"What would you like to do next?\",\n",
      "        \"choices\": {\n",
      "            \"a\": \"Attempt to decipher the symbols on the rock\",\n",
      "            \"b\": \"Try to light the old lantern and enter the cave\"\n",
      "        }\n",
      "    }\n",
      "]\n"
     ]
    }
   ],
   "source": [
    "next_events = game_session.next({\n",
    "    \"event_type\": \"player_decision\",\n",
    "    \"choice\": \"b\"\n",
    "})\n",
    "print(json.dumps(next_events, indent = 4))"
   ]
  },
  {
   "cell_type": "code",
   "execution_count": 16,
   "metadata": {},
   "outputs": [
    {
     "name": "stdout",
     "output_type": "stream",
     "text": [
      "[\n",
      "    {\n",
      "        \"event_type\": \"story_block\",\n",
      "        \"story\": \"You kneel down to examine the symbols more closely. They're crudely etched into the rock, weathered by time and the elements. As you trace your fingers over the markings, you begin to discern a pattern. The symbols seem to depict a series of stick figures, some holding what appear to be weapons or tools. There's a larger, more ominous figure looming over the others, with jagged lines emanating from its form. Below the figures, you notice a repeating symbol that resembles a stylized eye. The whole scene gives off an unsettling vibe, possibly a warning left by those who came before.\"\n",
      "    },\n",
      "    {\n",
      "        \"event_type\": \"required_action\",\n",
      "        \"required_action\": \"player_dice_roll\",\n",
      "        \"prompt\": \"Roll a d20 to determine how well you can interpret the symbols. Higher rolls indicate better understanding.\",\n",
      "        \"dice_type\": \"d20\"\n",
      "    },\n",
      "    {\n",
      "        \"event_type\": \"initial_dice_roll\",\n",
      "        \"rolled_value\": \"15\"\n",
      "    },\n",
      "    {\n",
      "        \"event_type\": \"study_question\",\n",
      "        \"question_text\": \"Ilang araw lang pagkatapos bumalik ni Rizal sa Pilipinas nang tinanggap siya ni Gobernador-Heneral Terrero sa Malaca\\u00f1ang?\",\n",
      "        \"choices\": {\n",
      "            \"a\": \"Isang linggo\",\n",
      "            \"b\": \"Dalawang linggo\",\n",
      "            \"c\": \"Ilang araw lamang\",\n",
      "            \"d\": \"Isang buwan\"\n",
      "        }\n",
      "    }\n",
      "]\n"
     ]
    }
   ],
   "source": [
    "next_events = game_session.next({\n",
    "    \"event_type\": \"player_decision\",\n",
    "    \"choice\": \"a\"\n",
    "})\n",
    "print(json.dumps(next_events, indent = 4))"
   ]
  },
  {
   "cell_type": "code",
   "execution_count": 17,
   "metadata": {},
   "outputs": [
    {
     "name": "stdout",
     "output_type": "stream",
     "text": [
      "[\n",
      "    {\n",
      "        \"event_type\": \"answer_assessment\",\n",
      "        \"assessment\": \"Incorrect\",\n",
      "        \"correct_answer\": \"c\",\n",
      "        \"adjusted_dice_roll\": \"10\"\n",
      "    },\n",
      "    {\n",
      "        \"event_type\": \"story_block\",\n",
      "        \"story\": \"With a roll of 10, you manage to glean some insight from the crude etchings, though much remains unclear. You deduce that the symbols likely represent a group of explorers or warriors encountering a powerful entity within the cave. The recurring eye symbol could be a warning about being watched or a reference to some sort of guardian. While the exact meaning eludes you, you can't shake the feeling that these markings serve as a caution to those who would enter the cave unprepared. Armed with this knowledge, you feel a mix of apprehension and curiosity about what lies ahead. The old lantern you found earlier catches your eye once again, potentially offering some light in the darkness that awaits.\"\n",
      "    },\n",
      "    {\n",
      "        \"event_type\": \"required_action\",\n",
      "        \"required_action\": \"player_decision\",\n",
      "        \"prompt\": \"How do you wish to proceed?\",\n",
      "        \"choices\": {\n",
      "            \"a\": \"Light the old lantern and enter the cave, staying alert for any signs of danger\",\n",
      "            \"b\": \"Enter the cave without the lantern, relying on your other senses in the darkness\"\n",
      "        }\n",
      "    }\n",
      "]\n"
     ]
    }
   ],
   "source": [
    "next_events = game_session.next({\n",
    "    \"event_type\": \"player_answer\",\n",
    "    \"answer\": \"b\"\n",
    "})\n",
    "print(json.dumps(next_events, indent = 4))"
   ]
  },
  {
   "cell_type": "code",
   "execution_count": null,
   "metadata": {},
   "outputs": [],
   "source": []
  },
  {
   "cell_type": "code",
   "execution_count": null,
   "metadata": {},
   "outputs": [],
   "source": []
  },
  {
   "cell_type": "code",
   "execution_count": null,
   "metadata": {},
   "outputs": [],
   "source": []
  },
  {
   "cell_type": "code",
   "execution_count": null,
   "metadata": {},
   "outputs": [],
   "source": []
  }
 ],
 "metadata": {
  "kernelspec": {
   "display_name": "Python 3 (ipykernel)",
   "language": "python",
   "name": "python3"
  },
  "language_info": {
   "codemirror_mode": {
    "name": "ipython",
    "version": 3
   },
   "file_extension": ".py",
   "mimetype": "text/x-python",
   "name": "python",
   "nbconvert_exporter": "python",
   "pygments_lexer": "ipython3",
   "version": "3.12.4"
  }
 },
 "nbformat": 4,
 "nbformat_minor": 2
}
