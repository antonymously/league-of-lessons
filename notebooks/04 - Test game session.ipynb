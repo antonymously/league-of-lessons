{
 "cells": [
  {
   "cell_type": "markdown",
   "metadata": {},
   "source": [
    "Test the game session object"
   ]
  },
  {
   "cell_type": "code",
   "execution_count": 1,
   "metadata": {},
   "outputs": [
    {
     "data": {
      "text/plain": [
       "True"
      ]
     },
     "execution_count": 1,
     "metadata": {},
     "output_type": "execute_result"
    }
   ],
   "source": [
    "import os\n",
    "os.chdir('./..')\n",
    "\n",
    "from dotenv import load_dotenv\n",
    "\n",
    "load_dotenv()"
   ]
  },
  {
   "cell_type": "code",
   "execution_count": 2,
   "metadata": {},
   "outputs": [],
   "source": [
    "import json\n",
    "from league_of_lessons.game_session import GameSession, QuestionManager"
   ]
  },
  {
   "cell_type": "code",
   "execution_count": 3,
   "metadata": {},
   "outputs": [],
   "source": [
    "study_material_filepath = \"./data/noli_me_tangere/noli_me_tangere_study_material.txt\""
   ]
  },
  {
   "cell_type": "code",
   "execution_count": 4,
   "metadata": {},
   "outputs": [],
   "source": [
    "question_manager = QuestionManager()\n",
    "question_manager.set_study_material(study_material_filepath)"
   ]
  },
  {
   "cell_type": "code",
   "execution_count": 5,
   "metadata": {},
   "outputs": [],
   "source": [
    "game_session = GameSession(question_manager = question_manager)"
   ]
  },
  {
   "cell_type": "code",
   "execution_count": 6,
   "metadata": {},
   "outputs": [],
   "source": [
    "game_session.reset()"
   ]
  },
  {
   "cell_type": "code",
   "execution_count": 7,
   "metadata": {},
   "outputs": [
    {
     "name": "stdout",
     "output_type": "stream",
     "text": [
      "[\n",
      "    {\n",
      "        \"event_type\": \"story_block\",\n",
      "        \"story\": \"You find yourself standing at the entrance of a dark, foreboding cave. The air is thick with humidity, and a faint, musty odor wafts from the depths. Moss-covered rocks line the entrance, and you can hear the distant sound of dripping water echoing from within. Your quest to find the legendary Crystal of Eternity has led you to this remote location. As you peer into the gloom, you notice faint, mysterious symbols carved into the cave walls.\"\n",
      "    },\n",
      "    {\n",
      "        \"event_type\": \"required_action\",\n",
      "        \"required_action\": \"player_decision\",\n",
      "        \"prompt\": \"What will you do at the cave entrance?\",\n",
      "        \"choices\": {\n",
      "            \"a\": \"Enter the cave cautiously\",\n",
      "            \"b\": \"Examine the symbols on the wall more closely\"\n",
      "        }\n",
      "    }\n",
      "]\n"
     ]
    }
   ],
   "source": [
    "next_events = game_session.next()\n",
    "print(json.dumps(next_events, indent = 4))"
   ]
  },
  {
   "cell_type": "code",
   "execution_count": 7,
   "metadata": {},
   "outputs": [
    {
     "name": "stdout",
     "output_type": "stream",
     "text": [
      "[\n",
      "    {\n",
      "        \"event_type\": \"story_block\",\n",
      "        \"story\": \"You decide to investigate the area around the gates before entering the city. As you circle the perimeter, your keen eyes spot something unusual. Near the base of the right gate, partially hidden by overgrown vines, you notice strange markings etched into the stone. They appear to be fresh, glowing faintly with a sickly green light. Upon closer inspection, you recognize them as symbols of dark magic, possibly used in some kind of sinister ritual. The discovery sends a chill down your spine, confirming your suspicions that something is indeed wrong in Luminara.\"\n",
      "    },\n",
      "    {\n",
      "        \"event_type\": \"required_action\",\n",
      "        \"required_action\": \"player_decision\",\n",
      "        \"prompt\": \"What would you like to do with this new information?\",\n",
      "        \"choices\": {\n",
      "            \"a\": \"Attempt to decipher the magical symbols\",\n",
      "            \"b\": \"Enter the city cautiously, keeping an eye out for any other signs of dark magic\"\n",
      "        }\n",
      "    }\n",
      "]\n"
     ]
    }
   ],
   "source": [
    "next_events = game_session.next({\n",
    "    \"event_type\": \"player_decision\",\n",
    "    \"choice\": \"b\"\n",
    "})\n",
    "print(json.dumps(next_events, indent = 4))"
   ]
  },
  {
   "cell_type": "code",
   "execution_count": 8,
   "metadata": {},
   "outputs": [
    {
     "name": "stdout",
     "output_type": "stream",
     "text": [
      "[\n",
      "    {\n",
      "        \"event_type\": \"player_decision\",\n",
      "        \"choice\": \"a\"\n",
      "    },\n",
      "    {\n",
      "        \"event_type\": \"story_block\",\n",
      "        \"story\": \"You take a deep breath and step into the cave, your senses on high alert. The temperature drops noticeably as you move further inside, and the light from the entrance quickly fades. You fumble in your pack for a torch and light it, casting flickering shadows on the rough stone walls. The passageway narrows, forcing you to proceed single file. As you advance, you notice the ground becoming slick with moisture, making each step treacherous.\"\n",
      "    },\n",
      "    {\n",
      "        \"event_type\": \"required_action\",\n",
      "        \"required_action\": \"player_dice_roll\",\n",
      "        \"prompt\": \"Roll a d20 to determine your agility in navigating the slippery cave floor.\",\n",
      "        \"dice_type\": \"d20\"\n",
      "    },\n",
      "    {\n",
      "        \"event_type\": \"initial_dice_roll\",\n",
      "        \"rolled_value\": \"2\"\n",
      "    },\n",
      "    {\n",
      "        \"event_type\": \"study_question\",\n",
      "        \"question_text\": \"Sino ang kurang pumalit kay Padre Damaso?\",\n",
      "        \"choices\": {\n",
      "            \"a\": \"Padre Sibyla\",\n",
      "            \"b\": \"Padre Salvi\",\n",
      "            \"c\": \"Padre Bernardo\",\n",
      "            \"d\": \"Padre Florentino\"\n",
      "        }\n",
      "    }\n",
      "]\n"
     ]
    }
   ],
   "source": [
    "next_events = game_session.next({\n",
    "    \"event_type\": \"player_decision\",\n",
    "    \"choice\": \"a\"\n",
    "})\n",
    "print(json.dumps(next_events, indent = 4))"
   ]
  },
  {
   "cell_type": "code",
   "execution_count": 9,
   "metadata": {},
   "outputs": [
    {
     "name": "stdout",
     "output_type": "stream",
     "text": [
      "[\n",
      "    {\n",
      "        \"event_type\": \"answer_assessment\",\n",
      "        \"assessment\": \"Correct\",\n",
      "        \"correct_answer\": \"b\",\n",
      "        \"adjusted_dice_roll\": \"12\"\n",
      "    },\n",
      "    {\n",
      "        \"event_type\": \"story_block\",\n",
      "        \"story\": \"With a roll of 12, you manage to partially decipher the magical symbols. Your understanding is incomplete, but you gather enough information to grasp the gravity of the situation. The runes are part of a dark ritual that has weakened Luminara's protective wards, leaving the city vulnerable to malevolent forces. You sense that the full effects of this ritual are yet to manifest, but time is of the essence. As you ponder this revelation, a faint, otherworldly shriek echoes from within the city walls, sending a shiver down your spine.\"\n",
      "    },\n",
      "    {\n",
      "        \"event_type\": \"required_action\",\n",
      "        \"required_action\": \"player_decision\",\n",
      "        \"prompt\": \"With this partial knowledge and the unsettling sound, what do you choose to do?\",\n",
      "        \"choices\": {\n",
      "            \"a\": \"Enter the city immediately to investigate the source of the shriek\",\n",
      "            \"b\": \"Attempt to disrupt the magical symbols before entering the city\"\n",
      "        }\n",
      "    }\n",
      "]\n"
     ]
    }
   ],
   "source": [
    "next_events = game_session.next({\n",
    "    \"event_type\": \"player_answer\",\n",
    "    \"answer\": \"b\"\n",
    "})\n",
    "print(json.dumps(next_events, indent = 4))"
   ]
  },
  {
   "cell_type": "code",
   "execution_count": null,
   "metadata": {},
   "outputs": [],
   "source": []
  },
  {
   "cell_type": "code",
   "execution_count": null,
   "metadata": {},
   "outputs": [],
   "source": []
  },
  {
   "cell_type": "code",
   "execution_count": null,
   "metadata": {},
   "outputs": [],
   "source": []
  },
  {
   "cell_type": "code",
   "execution_count": null,
   "metadata": {},
   "outputs": [],
   "source": []
  }
 ],
 "metadata": {
  "kernelspec": {
   "display_name": "Python 3 (ipykernel)",
   "language": "python",
   "name": "python3"
  },
  "language_info": {
   "codemirror_mode": {
    "name": "ipython",
    "version": 3
   },
   "file_extension": ".py",
   "mimetype": "text/x-python",
   "name": "python",
   "nbconvert_exporter": "python",
   "pygments_lexer": "ipython3",
   "version": "3.11.5"
  }
 },
 "nbformat": 4,
 "nbformat_minor": 2
}
